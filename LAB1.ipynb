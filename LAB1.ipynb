{
 "cells": [
  {
   "cell_type": "markdown",
   "metadata": {
    "id": "skreU4ZawqQ_"
   },
   "source": [
    "# Lab Exercise 1. Scraping Static Websites\n"
   ]
  },
  {
   "cell_type": "markdown",
   "metadata": {
    "id": "VzAWoqz5wwT9"
   },
   "source": [
    "This is the warmup task for the first laboratory exercise. It consists of scraping static Websites with BeautifulSoap.\n",
    "\n",
    " It should be completed at home and presented at the laboratory."
   ]
  },
  {
   "cell_type": "markdown",
   "metadata": {
    "id": "qpdvbrsow5EE"
   },
   "source": [
    "**Total points: 2**"
   ]
  },
  {
   "cell_type": "markdown",
   "metadata": {
    "id": "6eDmGLrXx0t8"
   },
   "source": [
    "### Task Description"
   ]
  },
  {
   "cell_type": "markdown",
   "metadata": {
    "id": "RG42MHsDxAP_"
   },
   "source": [
    "Scrape the information about the products on the following page:\n",
    "https://clevershop.mk/product-category/mobilni-laptopi-i-tableti/"
   ]
  },
  {
   "cell_type": "markdown",
   "metadata": {
    "id": "uoTcMRl4xP3G"
   },
   "source": [
    "For each product scrape:\n",
    "\n",
    "\n",
    "*   Product title (selector `'.wd-entities-title'`)\n",
    "*   Product regular price (selector `'.woocommerce-Price-amount'`)\n",
    "*   Product discount price (if available), same selector as regular price\n",
    "*   URL to the product page\n",
    "*   Add to cart button URL\n",
    "\n",
    "***Help: There are multiple product pages, for each page you need to send a separate request***\n"
   ]
  },
  {
   "cell_type": "markdown",
   "metadata": {
    "id": "tc0QvUR8xxwt"
   },
   "source": [
    "Save the results as a DataFrame object"
   ]
  },
  {
   "cell_type": "markdown",
   "metadata": {
    "id": "peGjiUZLzbZt"
   },
   "source": [
    "You can add as many code cells as you need."
   ]
  },
  {
   "cell_type": "markdown",
   "metadata": {
    "id": "b7U-kwKSzUIV"
   },
   "source": [
    "________________________________________________________________"
   ]
  },
  {
   "cell_type": "markdown",
   "metadata": {
    "id": "yn5gyMzNx5Vk"
   },
   "source": [
    "### Requirements"
   ]
  },
  {
   "cell_type": "markdown",
   "metadata": {
    "id": "WZ3ifNLhx7tk"
   },
   "source": [
    "Import libraries and modules that you are going to use"
   ]
  },
  {
   "cell_type": "code",
   "execution_count": 14,
   "metadata": {
    "id": "GQ3zSO8WyJC_"
   },
   "outputs": [],
   "source": [
    "import requests\n",
    "import pandas as pd\n",
    "from bs4 import BeautifulSoup"
   ]
  },
  {
   "cell_type": "markdown",
   "metadata": {
    "id": "fsR71mugyJP7"
   },
   "source": [
    "### Send HTTP request to the target Website"
   ]
  },
  {
   "cell_type": "code",
   "execution_count": 6,
   "metadata": {
    "id": "61ImGen2yQff"
   },
   "outputs": [],
   "source": [
    "base_url='https://clevershop.mk/product-category/mobilni-laptopi-i-tableti/page/'"
   ]
  },
  {
   "cell_type": "markdown",
   "metadata": {
    "id": "lFnRsSVJyXit"
   },
   "source": [
    "check the response status code"
   ]
  },
  {
   "cell_type": "code",
   "execution_count": 7,
   "metadata": {
    "id": "xy6xJ3RGyXUN"
   },
   "outputs": [
    {
     "data": {
      "text/plain": [
       "200"
      ]
     },
     "execution_count": 7,
     "metadata": {},
     "output_type": "execute_result"
    }
   ],
   "source": [
    "response=requests.get(base_url+'1')\n",
    "response.status_code"
   ]
  },
  {
   "cell_type": "markdown",
   "metadata": {
    "id": "-MykzAV4yQ4j"
   },
   "source": [
    "### Parse the response content with BeautifulSoap"
   ]
  },
  {
   "cell_type": "code",
   "execution_count": 8,
   "metadata": {
    "id": "F92A3wvlyUBc"
   },
   "outputs": [],
   "source": [
    "if response.status_code == 200:\n",
    "  soup=BeautifulSoup(response.content,'html.parser')"
   ]
  },
  {
   "cell_type": "markdown",
   "metadata": {
    "id": "F8hifMvVycfV"
   },
   "source": [
    "### Extract data from the BeautifulSoap object using any selectors, attribute identifiers, etc."
   ]
  },
  {
   "cell_type": "markdown",
   "metadata": {
    "id": "sHgfHr61y2tD"
   },
   "source": [
    "* Product title (selector '.wd-entities-title')\n",
    "* Product regular price (selector '.woocommerce-Price-amount')\n",
    "* Product discount price (if available), same selector as regular price\n",
    "* URL to the product page\n",
    "* Add to cart button URL"
   ]
  },
  {
   "cell_type": "code",
   "execution_count": 9,
   "metadata": {
    "id": "UV1kZCRyycQF"
   },
   "outputs": [],
   "source": [
    "products=soup.select('.product-grid-item')\n",
    "parsed_products=[]\n",
    "for product in products:\n",
    "  title=product.select_one('.wd-entities-title').text.strip()\n",
    "  prices = product.select('.woocommerce-Price-amount')\n",
    "  regular_price = prices[0].text.strip() if prices else None\n",
    "  discount_price = prices[1].text.strip() if len(prices) > 1 else None\n",
    "  url=product.select_one('.wd-entities-title a')['href']\n",
    "  button=product.select_one('a.add_to_cart_button')['href']\n",
    "\n",
    "  product_dictionary={\n",
    "      'ProductName':title,\n",
    "      'ProductPrice':regular_price,\n",
    "      'DiscountedPrice':discount_price,\n",
    "      'ProductPage':url,\n",
    "      'AddToCartButton':button\n",
    "  }\n",
    "  parsed_products.append(product_dictionary)"
   ]
  },
  {
   "cell_type": "markdown",
   "metadata": {
    "id": "gToy7d5Jy9Qk"
   },
   "source": [
    "Repeat the extraction process for each page of products"
   ]
  },
  {
   "cell_type": "code",
   "execution_count": 10,
   "metadata": {
    "id": "rVdYuEv3zArs"
   },
   "outputs": [],
   "source": [
    "def extract_products_as_dict(product):\n",
    "  title=product.select_one('.wd-entities-title').text.strip()\n",
    "  prices = product.select('.woocommerce-Price-amount')\n",
    "  regular_price = prices[0].text.strip() if prices else None\n",
    "  discount_price = prices[1].text.strip() if len(prices) > 1 else None\n",
    "  url=product.select_one('.wd-entities-title a')['href']\n",
    "  button=product.select_one('a.add_to_cart_button')['href']\n",
    "\n",
    "  product_dictionary={\n",
    "      'ProductName':title,\n",
    "      'ProductPrice':regular_price,\n",
    "      'DiscountedPrice':discount_price,\n",
    "      'ProductPage':url,\n",
    "      'AddToCartButton':button\n",
    "  }\n",
    "  return product_dictionary\n",
    "\n",
    "all_products=[]\n",
    "for i in range(1,14):\n",
    "  url=base_url+str(i)\n",
    "  response=requests.get(url)\n",
    "  soup=BeautifulSoup(response.content,'html.parser')\n",
    "  products=soup.select('.product-grid-item')\n",
    "  for product in products:\n",
    "    result=extract_products_as_dict(product)\n",
    "    all_products.append(result)\n"
   ]
  },
  {
   "cell_type": "markdown",
   "metadata": {
    "id": "R4OIUt0AynuU"
   },
   "source": [
    "### Create a pandas DataFrame with the scraped products"
   ]
  },
  {
   "cell_type": "code",
   "execution_count": 11,
   "metadata": {},
   "outputs": [],
   "source": [
    "df=pd.DataFrame(all_products)"
   ]
  },
  {
   "cell_type": "markdown",
   "metadata": {
    "id": "Rxbi54EOyrb8"
   },
   "source": [
    "Save the dataframe as `.csv`"
   ]
  },
  {
   "cell_type": "code",
   "execution_count": 15,
   "metadata": {
    "id": "TLNfZQ07yuQE"
   },
   "outputs": [],
   "source": [
    "df.to_csv('products_all_pages.csv', encoding='utf-8-sig')\n"
   ]
  },
  {
   "cell_type": "code",
   "execution_count": 17,
   "metadata": {},
   "outputs": [
    {
     "data": {
      "text/html": [
       "<div>\n",
       "<style scoped>\n",
       "    .dataframe tbody tr th:only-of-type {\n",
       "        vertical-align: middle;\n",
       "    }\n",
       "\n",
       "    .dataframe tbody tr th {\n",
       "        vertical-align: top;\n",
       "    }\n",
       "\n",
       "    .dataframe thead th {\n",
       "        text-align: right;\n",
       "    }\n",
       "</style>\n",
       "<table border=\"1\" class=\"dataframe\">\n",
       "  <thead>\n",
       "    <tr style=\"text-align: right;\">\n",
       "      <th></th>\n",
       "      <th>ProductName</th>\n",
       "      <th>ProductPrice</th>\n",
       "      <th>DiscountedPrice</th>\n",
       "      <th>ProductPage</th>\n",
       "      <th>AddToCartButton</th>\n",
       "    </tr>\n",
       "  </thead>\n",
       "  <tbody>\n",
       "    <tr>\n",
       "      <th>0</th>\n",
       "      <td>Acer A315-23-A7KD</td>\n",
       "      <td>17.590 ден</td>\n",
       "      <td>None</td>\n",
       "      <td>https://clevershop.mk/product/acer-a315-23-a7kd/</td>\n",
       "      <td>?add-to-cart=21494</td>\n",
       "    </tr>\n",
       "    <tr>\n",
       "      <th>1</th>\n",
       "      <td>Acer A315-23-R5P2</td>\n",
       "      <td>27.490 ден</td>\n",
       "      <td>None</td>\n",
       "      <td>https://clevershop.mk/product/acer-a315-23-r5p2/</td>\n",
       "      <td>?add-to-cart=21510</td>\n",
       "    </tr>\n",
       "    <tr>\n",
       "      <th>2</th>\n",
       "      <td>ACER Aspire 1 A115-22</td>\n",
       "      <td>18.999 ден</td>\n",
       "      <td>15.999 ден</td>\n",
       "      <td>https://clevershop.mk/product/acer-aspire-1-nx...</td>\n",
       "      <td>?add-to-cart=20826</td>\n",
       "    </tr>\n",
       "    <tr>\n",
       "      <th>3</th>\n",
       "      <td>Acer Aspire 3 A315-23-R26A</td>\n",
       "      <td>29.990 ден</td>\n",
       "      <td>None</td>\n",
       "      <td>https://clevershop.mk/product/acer-aspire-3-a3...</td>\n",
       "      <td>?add-to-cart=21516</td>\n",
       "    </tr>\n",
       "    <tr>\n",
       "      <th>4</th>\n",
       "      <td>Acer Aspire 3 A315-58-33WK</td>\n",
       "      <td>24.490 ден</td>\n",
       "      <td>None</td>\n",
       "      <td>https://clevershop.mk/product/21498/</td>\n",
       "      <td>?add-to-cart=21498</td>\n",
       "    </tr>\n",
       "  </tbody>\n",
       "</table>\n",
       "</div>"
      ],
      "text/plain": [
       "                  ProductName ProductPrice DiscountedPrice  \\\n",
       "0           Acer A315-23-A7KD   17.590 ден            None   \n",
       "1           Acer A315-23-R5P2   27.490 ден            None   \n",
       "2       ACER Aspire 1 A115-22   18.999 ден      15.999 ден   \n",
       "3  Acer Aspire 3 A315-23-R26A   29.990 ден            None   \n",
       "4  Acer Aspire 3 A315-58-33WK   24.490 ден            None   \n",
       "\n",
       "                                         ProductPage     AddToCartButton  \n",
       "0   https://clevershop.mk/product/acer-a315-23-a7kd/  ?add-to-cart=21494  \n",
       "1   https://clevershop.mk/product/acer-a315-23-r5p2/  ?add-to-cart=21510  \n",
       "2  https://clevershop.mk/product/acer-aspire-1-nx...  ?add-to-cart=20826  \n",
       "3  https://clevershop.mk/product/acer-aspire-3-a3...  ?add-to-cart=21516  \n",
       "4               https://clevershop.mk/product/21498/  ?add-to-cart=21498  "
      ]
     },
     "execution_count": 17,
     "metadata": {},
     "output_type": "execute_result"
    }
   ],
   "source": [
    "df.head()"
   ]
  },
  {
   "cell_type": "code",
   "execution_count": null,
   "metadata": {},
   "outputs": [],
   "source": []
  }
 ],
 "metadata": {
  "colab": {
   "provenance": []
  },
  "kernelspec": {
   "display_name": "Python 3 (ipykernel)",
   "language": "python",
   "name": "python3"
  },
  "language_info": {
   "codemirror_mode": {
    "name": "ipython",
    "version": 3
   },
   "file_extension": ".py",
   "mimetype": "text/x-python",
   "name": "python",
   "nbconvert_exporter": "python",
   "pygments_lexer": "ipython3",
   "version": "3.13.0"
  }
 },
 "nbformat": 4,
 "nbformat_minor": 4
}
